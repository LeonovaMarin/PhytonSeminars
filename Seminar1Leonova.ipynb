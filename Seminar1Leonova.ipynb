{
  "nbformat": 4,
  "nbformat_minor": 0,
  "metadata": {
    "colab": {
      "provenance": [],
      "authorship_tag": "ABX9TyMmQXvXEvAhb8Ef52tdTaZ6",
      "include_colab_link": true
    },
    "kernelspec": {
      "name": "python3",
      "display_name": "Python 3"
    },
    "language_info": {
      "name": "python"
    }
  },
  "cells": [
    {
      "cell_type": "markdown",
      "metadata": {
        "id": "view-in-github",
        "colab_type": "text"
      },
      "source": [
        "<a href=\"https://colab.research.google.com/github/LeonovaMarin/PhytonSeminars/blob/master/Seminar1Leonova.ipynb\" target=\"_parent\"><img src=\"https://colab.research.google.com/assets/colab-badge.svg\" alt=\"Open In Colab\"/></a>"
      ]
    },
    {
      "cell_type": "code",
      "source": [
        "import pandas as pd\n"
      ],
      "metadata": {
        "id": "sg-U6qkbWRMn"
      },
      "execution_count": 1,
      "outputs": []
    },
    {
      "cell_type": "code",
      "source": [
        "import numpy as np\n"
      ],
      "metadata": {
        "id": "jWMFye33WPNH"
      },
      "execution_count": 2,
      "outputs": []
    },
    {
      "cell_type": "markdown",
      "source": [
        "##Задача 1##\n",
        "\n"
      ],
      "metadata": {
        "id": "py5fZBzORvtI"
      }
    },
    {
      "cell_type": "markdown",
      "source": [
        "### Подзадача ###\n",
        "\n",
        "Оформляйте ноутбук, используя эти советы:\n",
        "Номер задачи - заголовок 2\n",
        "Номер подзадачи - заголовок 3\n",
        "Предоставленные наборы данных оформляйте, как код "
      ],
      "metadata": {
        "id": "2fITEXE8V75z"
      }
    },
    {
      "cell_type": "markdown",
      "source": [
        "## Задача 2 ##\n",
        "\n",
        "На складе лежат разные фрукты в разном количестве.\n",
        "Нужно написать функцию, которая на вход принимает любое количество названий фруктов и их количество, а возвращает общее количество фруктов на складе при помощи использования kwargs"
      ],
      "metadata": {
        "id": "ujKNVIM5WIM2"
      }
    },
    {
      "cell_type": "code",
      "source": [
        "def fruits_storage(**fruits):\n",
        "    totalfruits = 0\n",
        "    for amount in fruits.values():\n",
        "        totalfruits += amount\n",
        "    return totalfruits\n",
        "\n",
        "fruits_storage(peach=13, lemon=11, orange=4, kiwi=7, watermelon=1, melon=5)"
      ],
      "metadata": {
        "colab": {
          "base_uri": "https://localhost:8080/"
        },
        "id": "GY0y1MvaWidf",
        "outputId": "34152513-a54d-4c75-b89a-321cf4762261"
      },
      "execution_count": 3,
      "outputs": [
        {
          "output_type": "execute_result",
          "data": {
            "text/plain": [
              "41"
            ]
          },
          "metadata": {},
          "execution_count": 3
        }
      ]
    },
    {
      "cell_type": "markdown",
      "source": [
        "##Задача 3:##\n",
        "Дан список с затратами на рекламу. Но в данных есть ошибки, некоторые затраты имеют отрицательную величину. Удалите такие значения из списка и посчитайте суммарные затраты\n",
        "[100, 125, -90, 345, 655, -1, 0, 200]\n",
        "Используйте list comprehensions"
      ],
      "metadata": {
        "id": "um3465QeW9YZ"
      }
    },
    {
      "cell_type": "code",
      "source": [
        "costs = [100, 125, -90, 345, 655, -1, 0, 200]\n",
        "sum([i for i in costs if i > 0])"
      ],
      "metadata": {
        "colab": {
          "base_uri": "https://localhost:8080/"
        },
        "id": "ODcDbnEAW87u",
        "outputId": "7db33936-e98e-4c44-c218-ac215f158310"
      },
      "execution_count": 5,
      "outputs": [
        {
          "output_type": "execute_result",
          "data": {
            "text/plain": [
              "1425"
            ]
          },
          "metadata": {},
          "execution_count": 5
        }
      ]
    },
    {
      "cell_type": "markdown",
      "source": [
        "##Задача 4##\n",
        "Даны два списка.\n"
      ],
      "metadata": {
        "id": "Ys0y0zAFYaWR"
      }
    },
    {
      "cell_type": "code",
      "source": [
        "date_buy = ['2021-09-14', '2021-12-15', '2021-09-08', '2021-12-05', '2021-10-09', '2021-09-30', '2021-12-22', '2021-11-29', '2021-12-24', '2021-11-26', '2021-10-27', '2021-12-18', '2021-11-09', '2021-11-23', '2021-09-27', '2021-10-02', '2021-12-27', '2021-09-20', '2021-12-13', '2021-11-01', '2021-11-09', '2021-12-06', '2021-12-08', '2021-10-09', '2021-10-31', '2021-09-30', '2021-11-09', '2021-12-13', '2021-10-26', '2021-12-09']"
      ],
      "metadata": {
        "id": "geeR5KlyZDZp"
      },
      "execution_count": 6,
      "outputs": []
    },
    {
      "cell_type": "code",
      "source": [
        "buy_sum = [1270, 8413, 9028, 3703, 5739, 4095, 295, 4944, 5723, 3701, 4471, 651, 7037, 4274, 6275, 4988, 6930, 2971, 6592, 2004, 2822, 519, 3406, 2732, 5015, 2008, 316, 6333, 5700, 2887]"
      ],
      "metadata": {
        "id": "vHM07_NxZily"
      },
      "execution_count": 8,
      "outputs": []
    },
    {
      "cell_type": "markdown",
      "source": [
        "### Подзадача 4.1###\n",
        " Найдите, какая выручка у компании в ноябре. Используйте list comprehensions"
      ],
      "metadata": {
        "id": "AhnPnSuKZVRs"
      }
    },
    {
      "cell_type": "code",
      "source": [
        "sum([buy_sum[i] for i in range(len(date_buy)) if date_buy[i].split('-')[1] == '11'])"
      ],
      "metadata": {
        "colab": {
          "base_uri": "https://localhost:8080/"
        },
        "id": "14Kv1emmZp16",
        "outputId": "4fa2144d-c0de-40c2-af72-59708a9066a9"
      },
      "execution_count": 9,
      "outputs": [
        {
          "output_type": "execute_result",
          "data": {
            "text/plain": [
              "25098"
            ]
          },
          "metadata": {},
          "execution_count": 9
        }
      ]
    },
    {
      "cell_type": "markdown",
      "source": [
        "##Подзадача 4.2##\n",
        "Найдите выручку компании в зависимости от месяца\n",
        "Для этого напишите функцию, которая на вход принимает список с датами и список с выручкой, а на выходе словарь, где ключи - это месяцы, а значения - это выручка. Используйте аннотирование типов."
      ],
      "metadata": {
        "id": "NwwrpQ1CamEI"
      }
    },
    {
      "cell_type": "code",
      "source": [
        "def monthly_revenue(date_buy: list, buy_sum: list) -> dict:\n",
        "    monthly_revenue = {}\n",
        "    \n",
        "    for i in range(len(date_buy)):\n",
        "        month = date_buy[i].split('-')[1]\n",
        "        if month in monthly_revenue.keys():\n",
        "            monthly_revenue[month] += buy_sum[i]\n",
        "        else:\n",
        "           monthly_revenue[month] = buy_sum[i]\n",
        "            \n",
        "    return monthly_revenue\n",
        "\n",
        "monthly_revenue(date_buy, buy_sum)"
      ],
      "metadata": {
        "colab": {
          "base_uri": "https://localhost:8080/"
        },
        "id": "kJbo-wnAbDiz",
        "outputId": "8e332f8b-67f3-49a7-d743-1bbae500db59"
      },
      "execution_count": 10,
      "outputs": [
        {
          "output_type": "execute_result",
          "data": {
            "text/plain": [
              "{'09': 25647, '12': 45452, '10': 28645, '11': 25098}"
            ]
          },
          "metadata": {},
          "execution_count": 10
        }
      ]
    }
  ]
}